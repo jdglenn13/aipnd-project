{
 "cells": [
  {
   "cell_type": "markdown",
   "metadata": {},
   "source": [
    "# Developing an AI application\n",
    "\n",
    "Going forward, AI algorithms will be incorporated into more and more everyday applications. For example, you might want to include an image classifier in a smart phone app. To do this, you'd use a deep learning model trained on hundreds of thousands of images as part of the overall application architecture. A large part of software development in the future will be using these types of models as common parts of applications. \n",
    "\n",
    "In this project, you'll train an image classifier to recognize different species of flowers. You can imagine using something like this in a phone app that tells you the name of the flower your camera is looking at. In practice you'd train this classifier, then export it for use in your application. We'll be using [this dataset](http://www.robots.ox.ac.uk/~vgg/data/flowers/102/index.html) of 102 flower categories, you can see a few examples below. \n",
    "\n",
    "<img src='assets/Flowers.png' width=500px>\n",
    "\n",
    "The project is broken down into multiple steps:\n",
    "\n",
    "* Load and preprocess the image dataset\n",
    "* Train the image classifier on your dataset\n",
    "* Use the trained classifier to predict image content\n",
    "\n",
    "We'll lead you through each part which you'll implement in Python.\n",
    "\n",
    "When you've completed this project, you'll have an application that can be trained on any set of labeled images. Here your network will be learning about flowers and end up as a command line application. But, what you do with your new skills depends on your imagination and effort in building a dataset. For example, imagine an app where you take a picture of a car, it tells you what the make and model is, then looks up information about it. Go build your own dataset and make something new.\n",
    "\n",
    "First up is importing the packages you'll need. It's good practice to keep all the imports at the beginning of your code. As you work through this notebook and find you need to import a package, make sure to add the import up here."
   ]
  },
  {
   "cell_type": "code",
   "execution_count": 68,
   "metadata": {},
   "outputs": [],
   "source": [
    "# Imports here\n",
    "import torch\n",
    "from torch import nn\n",
    "from torch import optim\n",
    "from torchvision import datasets, transforms, models\n",
    "from collections import OrderedDict\n",
    "import time\n",
    "import json"
   ]
  },
  {
   "cell_type": "markdown",
   "metadata": {},
   "source": [
    "## Load the data\n",
    "\n",
    "Here you'll use `torchvision` to load the data ([documentation](http://pytorch.org/docs/0.3.0/torchvision/index.html)). The data should be included alongside this notebook, otherwise you can [download it here](https://s3.amazonaws.com/content.udacity-data.com/nd089/flower_data.tar.gz). The dataset is split into three parts, training, validation, and testing. For the training, you'll want to apply transformations such as random scaling, cropping, and flipping. This will help the network generalize leading to better performance. You'll also need to make sure the input data is resized to 224x224 pixels as required by the pre-trained networks.\n",
    "\n",
    "The validation and testing sets are used to measure the model's performance on data it hasn't seen yet. For this you don't want any scaling or rotation transformations, but you'll need to resize then crop the images to the appropriate size.\n",
    "\n",
    "The pre-trained networks you'll use were trained on the ImageNet dataset where each color channel was normalized separately. For all three sets you'll need to normalize the means and standard deviations of the images to what the network expects. For the means, it's `[0.485, 0.456, 0.406]` and for the standard deviations `[0.229, 0.224, 0.225]`, calculated from the ImageNet images.  These values will shift each color channel to be centered at 0 and range from -1 to 1.\n",
    " "
   ]
  },
  {
   "cell_type": "code",
   "execution_count": 69,
   "metadata": {},
   "outputs": [],
   "source": [
    "data_dir = 'flowers'\n",
    "train_dir = data_dir + '/train'\n",
    "valid_dir = data_dir + '/valid'\n",
    "test_dir = data_dir + '/test'"
   ]
  },
  {
   "cell_type": "code",
   "execution_count": 70,
   "metadata": {},
   "outputs": [],
   "source": [
    "# TODO: Define your transforms for the training, validation, and testing sets\n",
    "train_transforms = transforms.Compose([transforms.RandomRotation(30),\n",
    "                                       transforms.RandomResizedCrop(224),\n",
    "                                       transforms.RandomHorizontalFlip(),\n",
    "                                       transforms.ToTensor(),\n",
    "                                       transforms.Normalize([0.485, 0.456, 0.406],\n",
    "                                                            [0.229, 0.224, 0.225])])\n",
    "\n",
    "test_transforms = transforms.Compose([transforms.Resize(255),\n",
    "                                      transforms.CenterCrop(224),\n",
    "                                      transforms.ToTensor(),\n",
    "                                      transforms.Normalize([0.485, 0.456, 0.406],\n",
    "                                                           [0.229, 0.224, 0.225])])\n",
    "\n",
    "valid_transforms = transforms.Compose([transforms.Resize(255),\n",
    "                                      transforms.CenterCrop(224),\n",
    "                                      transforms.ToTensor(),\n",
    "                                      transforms.Normalize([0.485, 0.456, 0.406],\n",
    "                                                           [0.229, 0.224, 0.225])])\n",
    "\n",
    "\n",
    "# TODO: Load the datasets with ImageFolder\n",
    "train_data = datasets.ImageFolder(train_dir, transform = train_transforms)\n",
    "test_data = datasets.ImageFolder(test_dir, transform = test_transforms)\n",
    "valid_data = datasets.ImageFolder(valid_dir, transform = valid_transforms)\n",
    "\n",
    "# TODO: Using the image datasets and the trainforms, define the dataloaders\n",
    "train_loader = torch.utils.data.DataLoader(train_data, batch_size=64, shuffle=True)\n",
    "test_loader = torch.utils.data.DataLoader(test_data, batch_size=64)\n",
    "valid_loader = torch.utils.data.DataLoader(valid_data, batch_size=64)"
   ]
  },
  {
   "cell_type": "markdown",
   "metadata": {},
   "source": [
    "### Label mapping\n",
    "\n",
    "You'll also need to load in a mapping from category label to category name. You can find this in the file `cat_to_name.json`. It's a JSON object which you can read in with the [`json` module](https://docs.python.org/2/library/json.html). This will give you a dictionary mapping the integer encoded categories to the actual names of the flowers."
   ]
  },
  {
   "cell_type": "code",
   "execution_count": 71,
   "metadata": {},
   "outputs": [],
   "source": [
    "with open('cat_to_name.json', 'r') as f:\n",
    "    cat_to_name = json.load(f)"
   ]
  },
  {
   "cell_type": "markdown",
   "metadata": {},
   "source": [
    "# Building and training the classifier\n",
    "\n",
    "Now that the data is ready, it's time to build and train the classifier. As usual, you should use one of the pretrained models from `torchvision.models` to get the image features. Build and train a new feed-forward classifier using those features.\n",
    "\n",
    "We're going to leave this part up to you. Refer to [the rubric](https://review.udacity.com/#!/rubrics/1663/view) for guidance on successfully completing this section. Things you'll need to do:\n",
    "\n",
    "* Load a [pre-trained network](http://pytorch.org/docs/master/torchvision/models.html) (If you need a starting point, the VGG networks work great and are straightforward to use)\n",
    "* Define a new, untrained feed-forward network as a classifier, using ReLU activations and dropout\n",
    "* Train the classifier layers using backpropagation using the pre-trained network to get the features\n",
    "* Track the loss and accuracy on the validation set to determine the best hyperparameters\n",
    "\n",
    "We've left a cell open for you below, but use as many as you need. Our advice is to break the problem up into smaller parts you can run separately. Check that each part is doing what you expect, then move on to the next. You'll likely find that as you work through each part, you'll need to go back and modify your previous code. This is totally normal!\n",
    "\n",
    "When training make sure you're updating only the weights of the feed-forward network. You should be able to get the validation accuracy above 70% if you build everything right. Make sure to try different hyperparameters (learning rate, units in the classifier, epochs, etc) to find the best model. Save those hyperparameters to use as default values in the next part of the project.\n",
    "\n",
    "One last important tip if you're using the workspace to run your code: To avoid having your workspace disconnect during the long-running tasks in this notebook, please read in the earlier page in this lesson called Intro to\n",
    "GPU Workspaces about Keeping Your Session Active. You'll want to include code from the workspace_utils.py module.\n",
    "\n",
    "**Note for Workspace users:** If your network is over 1 GB when saved as a checkpoint, there might be issues with saving backups in your workspace. Typically this happens with wide dense layers after the convolutional layers. If your saved checkpoint is larger than 1 GB (you can open a terminal and check with `ls -lh`), you should reduce the size of your hidden layers and train again."
   ]
  },
  {
   "cell_type": "code",
   "execution_count": 85,
   "metadata": {},
   "outputs": [
    {
     "name": "stdout",
     "output_type": "stream",
     "text": [
      "**This script will be executed using the device [cuda]\n"
     ]
    }
   ],
   "source": [
    "# Setting the device to be used for processing\n",
    "device = torch.device(\"cuda\" if torch.cuda.is_available() else \"cpu\")\n",
    "print(f'**This script will be executed using the device [{device}]')"
   ]
  },
  {
   "cell_type": "code",
   "execution_count": 82,
   "metadata": {},
   "outputs": [],
   "source": [
    "# Function to create the model, optimizer and criterion\n",
    "# Function returns the model, optimier, criterion\n",
    "def flowerModelVGG13():\n",
    "    model = models.vgg13(weights='DEFAULT')\n",
    "    \n",
    "    # Freeze parameters so we don't backprop through them\n",
    "    for param in model.parameters():\n",
    "        param.requires_grad = False\n",
    "        \n",
    "    # Update the Classifier layer\n",
    "    classifier = nn.Sequential(OrderedDict([\n",
    "                              ('fc1', nn.Linear(25088, 4096)),\n",
    "                              ('relu1', nn.ReLU()),\n",
    "                              ('do1', nn.Dropout(0.2)),\n",
    "                              ('fc3', nn.Linear(4096, 102)),\n",
    "                              ('output', nn.LogSoftmax(dim=1))]))    \n",
    "    model.classifier = classifier\n",
    "    \n",
    "    # Set criterion\n",
    "    criterion = nn.NLLLoss()\n",
    "    \n",
    "    # Only train the classifier parameters, feature parameters are frozen\n",
    "    optimizer = optim.Adam(model.classifier.parameters(), lr=0.003)\n",
    "    \n",
    "    # Set the model to process based on device (cpu or cuda)\n",
    "    model.to(device);\n",
    "    return model, optimizer, criterion\n",
    "\n"
   ]
  },
  {
   "cell_type": "code",
   "execution_count": 88,
   "metadata": {},
   "outputs": [],
   "source": [
    "# Alternate model using Resnet 34... Intended to be interchangeable through the rest of the code\n",
    "# Function returns the model, optimier, criterion\n",
    "def flowerModelResnet34():\n",
    "    model = models.resnet34(weights='DEFAULT')\n",
    "    \n",
    "    # Freeze parameters so we don't backprop through them\n",
    "    for param in model.parameters():\n",
    "        param.requires_grad = False\n",
    "        \n",
    "    # Update the Classifier layer\n",
    "    classifier = nn.Sequential(OrderedDict([\n",
    "                              ('fc1', nn.Linear(512, 256)),\n",
    "                              ('relu1', nn.ReLU()),\n",
    "                              ('do1', nn.Dropout(0.2)),\n",
    "                              ('fc3', nn.Linear(256, 102)),\n",
    "                              ('output', nn.LogSoftmax(dim=1))]))    \n",
    "    model.fc = classifier\n",
    "    \n",
    "    # Set criterion\n",
    "    criterion = nn.NLLLoss()\n",
    "    \n",
    "    # Only train the classifier parameters, feature parameters are frozen\n",
    "    optimizer = optim.Adam(model.fc.parameters(), lr=0.003)\n",
    "    \n",
    "    # Set the model to process based on device (cpu or cuda)\n",
    "    model.to(device);\n",
    "    return model, optimizer, criterion"
   ]
  },
  {
   "cell_type": "code",
   "execution_count": 74,
   "metadata": {},
   "outputs": [],
   "source": [
    "## Function to test the model using the test dataset\n",
    "## Function returns the accuracy of the test run in addition to printing it.\n",
    "def testDataset(msg_str, loader, model):\n",
    "    accuracy = 0\n",
    "    model.eval()\n",
    "    with torch.no_grad():\n",
    "        #Set model to evaluation mode\n",
    "        e_start = time.time()\n",
    "        for images, labels in loader:\n",
    "            images, labels = images.to(device), labels.to(device)\n",
    "            log_ps = model.forward(images)\n",
    "    \n",
    "            #calculate the accuracy\n",
    "            ps = torch.exp(log_ps)\n",
    "            top_p, top_class = ps.topk(1, dim=1)\n",
    "            equals = top_class == labels.view(*top_class.shape)\n",
    "            accuracy += torch.mean(equals.type(torch.FloatTensor)).item()\n",
    "    \n",
    "        e_end = time.time()\n",
    "\n",
    "        print(f'Model Performance for {msg_str}')\n",
    "        print(f'Model Duration on Test Data (seconds): {e_end - e_start:.2f}',\n",
    "              f'Accuracy: {accuracy/len(loader)*100:.2f}%')\n",
    "    \n",
    "    model.train()\n",
    "    return accuracy/len(loader)*100"
   ]
  },
  {
   "cell_type": "code",
   "execution_count": 75,
   "metadata": {},
   "outputs": [],
   "source": [
    "# Function for Trainig the model and testing it with each epoch\n",
    "def trainModel(model, train_loader, test_loader, optimizer, criterion):\n",
    "    epochs = 4\n",
    "    running_loss = 0\n",
    "    step_size = 20\n",
    "    start = time.time() #start of training\n",
    "    for e in range(epochs):\n",
    "        t_start = time.time()\n",
    "        for ii, (images, labels) in enumerate(train_loader):\n",
    "            if ii % step_size == 0:\n",
    "                b_start = time.time()\n",
    "            \n",
    "            images, labels = images.to(device), labels.to(device)\n",
    "            \n",
    "            log_ps = model.forward(images)\n",
    "            train_loss = criterion(log_ps, labels)\n",
    "            \n",
    "            optimizer.zero_grad()\n",
    "    \n",
    "            train_loss.backward()\n",
    "            optimizer.step()\n",
    "            \n",
    "            running_loss += train_loss.item()\n",
    "            \n",
    "            if (ii+1) % step_size == 0:\n",
    "                b_end = time.time()\n",
    "                b_set = f'{ii+2-step_size} to {ii+1}'\n",
    "                print(f'Epoch: {e+1} ',\n",
    "                      f'Training Batch: {b_set} ',\n",
    "                      f'Duration: {b_end - b_start:.2f} ',\n",
    "                      f'Loss: {running_loss/step_size:.6f}')\n",
    "                testDataset(f'After Epoch {e+1}, Batch {b_set}', test_loader, model)\n",
    "                running_loss = 0\n",
    "    \n",
    "                \n",
    "        t_end = time.time()\n",
    "        print(f'Training Epoch {e+1} duration: {t_end - t_start:.2f}')\n",
    "        epoch_accuracy = testDataset(f'After Training Epoch {e+1}', test_loader, model)\n",
    "        \n",
    "        # Save the model\n",
    "        #f1 = e+1\n",
    "        #f2 = epoch_accuracy\n",
    "        #filename = f'checkpoint_e{f1}_accuracy{f2:.2f}.pth'\n",
    "        #torch.save(model.state_dict(), filename)\n",
    "    \n",
    "    \n",
    "    end = time.time()\n",
    "    print(f'Total Training Time (Seconds): {end - start:.2f}')\n",
    "    return model, optimizer, criterion"
   ]
  },
  {
   "cell_type": "code",
   "execution_count": 66,
   "metadata": {},
   "outputs": [],
   "source": [
    "# Initilaize first model\n",
    "first_model, first_optimizer, first_criterion = flowerModelVGG13()"
   ]
  },
  {
   "cell_type": "code",
   "execution_count": 67,
   "metadata": {},
   "outputs": [
    {
     "name": "stdout",
     "output_type": "stream",
     "text": [
      "Model Performance for Untrained Model\n",
      "Model Duration on Test Data (seconds): 104.18 Accuracy: 1.08%\n"
     ]
    }
   ],
   "source": [
    "# Initially test the untrained model using the test dataset.            \n",
    "testDataset('Untrained Model', test_loader, first_model);"
   ]
  },
  {
   "cell_type": "code",
   "execution_count": 69,
   "metadata": {},
   "outputs": [
    {
     "name": "stdout",
     "output_type": "stream",
     "text": [
      "Epoch: 1  Training Batch: 1 to 20  Duration: 172.86  Loss: 18.389287\n",
      "Model Performance for After Epoch 1, Batch 1 to 20\n",
      "Model Duration on Test Data (seconds): 96.28 Accuracy: 25.16%\n",
      "Epoch: 1  Training Batch: 21 to 40  Duration: 172.51  Loss: 3.400215\n",
      "Model Performance for After Epoch 1, Batch 21 to 40\n",
      "Model Duration on Test Data (seconds): 96.17 Accuracy: 42.62%\n",
      "Epoch: 1  Training Batch: 41 to 60  Duration: 173.35  Loss: 2.614565\n",
      "Model Performance for After Epoch 1, Batch 41 to 60\n",
      "Model Duration on Test Data (seconds): 94.68 Accuracy: 53.35%\n",
      "Epoch: 1  Training Batch: 61 to 80  Duration: 174.66  Loss: 2.459895\n",
      "Model Performance for After Epoch 1, Batch 61 to 80\n",
      "Model Duration on Test Data (seconds): 95.30 Accuracy: 57.40%\n",
      "Epoch: 1  Training Batch: 81 to 100  Duration: 174.65  Loss: 2.235752\n",
      "Model Performance for After Epoch 1, Batch 81 to 100\n",
      "Model Duration on Test Data (seconds): 95.68 Accuracy: 59.66%\n",
      "Training Epoch 1 duration: 1371.92\n",
      "Model Performance for After Training Epoch 1\n",
      "Model Duration on Test Data (seconds): 92.43 Accuracy: 60.26%\n",
      "Epoch: 2  Training Batch: 1 to 20  Duration: 171.47  Loss: 2.403985\n",
      "Model Performance for After Epoch 2, Batch 1 to 20\n",
      "Model Duration on Test Data (seconds): 93.75 Accuracy: 64.26%\n",
      "Epoch: 2  Training Batch: 21 to 40  Duration: 171.27  Loss: 1.927479\n",
      "Model Performance for After Epoch 2, Batch 21 to 40\n",
      "Model Duration on Test Data (seconds): 93.12 Accuracy: 64.11%\n",
      "Epoch: 2  Training Batch: 41 to 60  Duration: 172.47  Loss: 2.044206\n",
      "Model Performance for After Epoch 2, Batch 41 to 60\n",
      "Model Duration on Test Data (seconds): 93.15 Accuracy: 68.98%\n",
      "Epoch: 2  Training Batch: 61 to 80  Duration: 172.44  Loss: 1.902506\n",
      "Model Performance for After Epoch 2, Batch 61 to 80\n",
      "Model Duration on Test Data (seconds): 92.54 Accuracy: 64.83%\n",
      "Epoch: 2  Training Batch: 81 to 100  Duration: 172.42  Loss: 1.923615\n",
      "Model Performance for After Epoch 2, Batch 81 to 100\n",
      "Model Duration on Test Data (seconds): 93.66 Accuracy: 67.39%\n",
      "Training Epoch 2 duration: 1351.03\n",
      "Model Performance for After Training Epoch 2\n",
      "Model Duration on Test Data (seconds): 94.39 Accuracy: 66.21%\n",
      "Epoch: 3  Training Batch: 1 to 20  Duration: 169.36  Loss: 2.019299\n",
      "Model Performance for After Epoch 3, Batch 1 to 20\n",
      "Model Duration on Test Data (seconds): 92.83 Accuracy: 67.00%\n",
      "Epoch: 3  Training Batch: 21 to 40  Duration: 169.44  Loss: 1.764639\n",
      "Model Performance for After Epoch 3, Batch 21 to 40\n",
      "Model Duration on Test Data (seconds): 92.60 Accuracy: 69.13%\n",
      "Epoch: 3  Training Batch: 41 to 60  Duration: 203.81  Loss: 1.829050\n",
      "Model Performance for After Epoch 3, Batch 41 to 60\n",
      "Model Duration on Test Data (seconds): 110.38 Accuracy: 72.38%\n",
      "Epoch: 3  Training Batch: 61 to 80  Duration: 218.71  Loss: 1.751984\n",
      "Model Performance for After Epoch 3, Batch 61 to 80\n",
      "Model Duration on Test Data (seconds): 112.15 Accuracy: 70.66%\n",
      "Epoch: 3  Training Batch: 81 to 100  Duration: 217.70  Loss: 1.742097\n",
      "Model Performance for After Epoch 3, Batch 81 to 100\n",
      "Model Duration on Test Data (seconds): 113.65 Accuracy: 71.95%\n",
      "Training Epoch 3 duration: 1532.13\n",
      "Model Performance for After Training Epoch 3\n",
      "Model Duration on Test Data (seconds): 115.56 Accuracy: 71.44%\n",
      "Epoch: 4  Training Batch: 1 to 20  Duration: 196.20  Loss: 1.943008\n",
      "Model Performance for After Epoch 4, Batch 1 to 20\n",
      "Model Duration on Test Data (seconds): 106.01 Accuracy: 72.01%\n",
      "Epoch: 4  Training Batch: 21 to 40  Duration: 184.85  Loss: 1.704630\n",
      "Model Performance for After Epoch 4, Batch 21 to 40\n",
      "Model Duration on Test Data (seconds): 105.12 Accuracy: 71.41%\n",
      "Epoch: 4  Training Batch: 41 to 60  Duration: 183.06  Loss: 1.783004\n",
      "Model Performance for After Epoch 4, Batch 41 to 60\n",
      "Model Duration on Test Data (seconds): 106.29 Accuracy: 71.11%\n",
      "Epoch: 4  Training Batch: 61 to 80  Duration: 180.96  Loss: 1.626958\n",
      "Model Performance for After Epoch 4, Batch 61 to 80\n",
      "Model Duration on Test Data (seconds): 107.16 Accuracy: 71.92%\n",
      "Epoch: 4  Training Batch: 81 to 100  Duration: 182.26  Loss: 1.638452\n",
      "Model Performance for After Epoch 4, Batch 81 to 100\n",
      "Model Duration on Test Data (seconds): 107.21 Accuracy: 70.15%\n",
      "Training Epoch 4 duration: 1485.78\n",
      "Model Performance for After Training Epoch 4\n",
      "Model Duration on Test Data (seconds): 105.82 Accuracy: 68.34%\n",
      "Total Training Time (Seconds): 6149.04\n"
     ]
    }
   ],
   "source": [
    "## Train the first model\n",
    "first_model, first_optimizer, first_criterion = trainModel(first_model, train_loader, test_loader, first_optimizer, first_criterion)"
   ]
  },
  {
   "cell_type": "markdown",
   "metadata": {},
   "source": [
    "## Testing your network\n",
    "\n",
    "It's good practice to test your trained network on test data, images the network has never seen either in training or validation. This will give you a good estimate for the model's performance on completely new images. Run the test images through the network and measure the accuracy, the same way you did validation. You should be able to reach around 70% accuracy on the test set if the model has been trained well."
   ]
  },
  {
   "cell_type": "code",
   "execution_count": 70,
   "metadata": {},
   "outputs": [
    {
     "name": "stdout",
     "output_type": "stream",
     "text": [
      "Model Performance for Final Model with Validation Data\n",
      "Model Duration on Test Data (seconds): 105.74 Accuracy: 72.23%\n"
     ]
    }
   ],
   "source": [
    "# TODO: Do validation on the test set\n",
    "final_accuracy = testDataset('Final Model with Validation Data', valid_loader, first_model);"
   ]
  },
  {
   "cell_type": "markdown",
   "metadata": {},
   "source": [
    "## Save the checkpoint\n",
    "\n",
    "Now that your network is trained, save the model so you can load it later for making predictions. You probably want to save other things such as the mapping of classes to indices which you get from one of the image datasets: `image_datasets['train'].class_to_idx`. You can attach this to the model as an attribute which makes inference easier later on.\n",
    "\n",
    "```model.class_to_idx = image_datasets['train'].class_to_idx```\n",
    "\n",
    "Remember that you'll want to completely rebuild the model later so you can use it for inference. Make sure to include any information you need in the checkpoint. If you want to load the model and keep training, you'll want to save the number of epochs as well as the optimizer state, `optimizer.state_dict`. You'll likely want to use this trained model in the next part of the project, so best to save it now."
   ]
  },
  {
   "cell_type": "code",
   "execution_count": 76,
   "metadata": {},
   "outputs": [],
   "source": [
    "# TODO: Save the checkpoint \n",
    "def modelCheckpoint(model):\n",
    "    if type == 'torchvision.models.resnet.ResNet':\n",
    "        classifier_state_dict = model.fc.state_dict()\n",
    "        filename = 'checkpoint_Resnet.pth'\n",
    "    elif type == 'torchvision.models.vgg.VGG':\n",
    "        classifier_state_dict = model.classifier.state_dict()\n",
    "        filename = 'checkpoint_VGG.pth'\n",
    "\n",
    "    \n",
    "    checkpoint = {'classifier_state_dict': classifier_state_dict,\n",
    "                  'optimizer_state_dict': optimizer.state_dict(),\n",
    "                  'epochs': epochs,\n",
    "                  'accuracy': final_accuracy,\n",
    "                  'model_type': type(model)}\n",
    "    \n",
    "    torch.save(checkpoint, filename)\n",
    "\n",
    "              "
   ]
  },
  {
   "cell_type": "code",
   "execution_count": 55,
   "metadata": {},
   "outputs": [
    {
     "data": {
      "text/plain": [
       "torchvision.models.vgg.VGG"
      ]
     },
     "execution_count": 55,
     "metadata": {},
     "output_type": "execute_result"
    }
   ],
   "source": [
    "# Save my frist model checkpoint\n",
    "modelCheckpoint(first_model)"
   ]
  },
  {
   "cell_type": "markdown",
   "metadata": {},
   "source": [
    "## Loading the checkpoint\n",
    "\n",
    "At this point it's good to write a function that can load a checkpoint and rebuild the model. That way you can come back to this project and keep working on it without having to retrain the network."
   ]
  },
  {
   "cell_type": "code",
   "execution_count": 77,
   "metadata": {},
   "outputs": [],
   "source": [
    "# TODO: Write a function that loads a checkpoint and rebuilds the model\n",
    "def load_checkpoint(filepath):\n",
    "    checkpoint = torch.load(filepath)\n",
    "    \n",
    "    if checkpoint['model_type'] == 'torchvision.models.resnet.ResNet':\n",
    "        model, optimizer, criterion = flowerModelResnet34()\n",
    "        model.fc.load_state_dict(checkpoint['classifier_state_dict'])\n",
    "    elif checkpoint['model_type'] == 'torchvision.models.vgg.VGG':\n",
    "        model, optimizer, criterion = flowerModelVGG13()\n",
    "        model.classifier.load_state_dict(checkpoint['classifier_state_dict'])\n",
    "        \n",
    "    accuracy = checkpoint['accuracy']\n",
    "    epochs = checkpoint['epochs']\n",
    "    optimizer.load_state_dict(checkpoint['optimizer_state_dict'])\n",
    "    \n",
    "    print(f'\"{filepath}\" loaded with accuracy of {accuracy:.2f}% ',\n",
    "          f'after {epochs} epochs of training...')\n",
    "    \n",
    "    return model, optimizer, criterion\n"
   ]
  },
  {
   "cell_type": "code",
   "execution_count": 11,
   "metadata": {},
   "outputs": [
    {
     "name": "stdout",
     "output_type": "stream",
     "text": [
      "\"checkpoint.pth\" loaded with accuracy of 72.23%  after 4 epochs of training...\n"
     ]
    }
   ],
   "source": [
    "#Load Existing Model:\n",
    "new_model, new_optimizer, new_criterion = load_checkpoint('checkpoint_VGG.pth')\n",
    "new_model\n"
   ]
  },
  {
   "cell_type": "code",
   "execution_count": 89,
   "metadata": {},
   "outputs": [
    {
     "name": "stdout",
     "output_type": "stream",
     "text": [
      "Model Performance for Untrained Model\n",
      "Model Duration on Test Data (seconds): 12.99 Accuracy: 0.72%\n"
     ]
    }
   ],
   "source": [
    "## Run the same program but for the Resnet model\n",
    "# Initilaize SECOND model\n",
    "second_model, second_optimizer, second_criterion = flowerModelResnet34()\n",
    "\n",
    "# Initially test the untrained model using the test dataset.            \n",
    "testDataset('Untrained Model', test_loader, second_model);"
   ]
  },
  {
   "cell_type": "code",
   "execution_count": null,
   "metadata": {},
   "outputs": [
    {
     "name": "stdout",
     "output_type": "stream",
     "text": [
      "Epoch: 1  Training Batch: 1 to 20  Duration: 22.09  Loss: 4.423957\n",
      "Model Performance for After Epoch 1, Batch 1 to 20\n",
      "Model Duration on Test Data (seconds): 12.95 Accuracy: 15.26%\n",
      "Epoch: 1  Training Batch: 21 to 40  Duration: 21.93  Loss: 3.764368\n",
      "Model Performance for After Epoch 1, Batch 21 to 40\n",
      "Model Duration on Test Data (seconds): 12.89 Accuracy: 31.38%\n"
     ]
    }
   ],
   "source": [
    "# Train the 2nd model\n",
    "second_model, second_optimizer, second_criterion = trainModel(second_model, train_loader, test_loader, second_optimizer, second_criterion)"
   ]
  },
  {
   "cell_type": "code",
   "execution_count": null,
   "metadata": {},
   "outputs": [],
   "source": [
    "# Do validation on the test set on the 2nd model\n",
    "final_accuracy = testDataset('Final Model with Validation Data', valid_loader, second_model);"
   ]
  },
  {
   "cell_type": "code",
   "execution_count": null,
   "metadata": {},
   "outputs": [],
   "source": [
    "# Save my second model checkpoint\n",
    "modelCheckpoint(second_model)"
   ]
  },
  {
   "cell_type": "code",
   "execution_count": null,
   "metadata": {},
   "outputs": [],
   "source": [
    "#Load second Model:\n",
    "new2_model, new2_optimizer, new2_criterion = load_checkpoint('checkpoint_Resnet.pth')\n",
    "new2_model"
   ]
  },
  {
   "cell_type": "markdown",
   "metadata": {},
   "source": [
    "# Inference for classification\n",
    "\n",
    "Now you'll write a function to use a trained network for inference. That is, you'll pass an image into the network and predict the class of the flower in the image. Write a function called `predict` that takes an image and a model, then returns the top $K$ most likely classes along with the probabilities. It should look like \n",
    "\n",
    "```python\n",
    "probs, classes = predict(image_path, model)\n",
    "print(probs)\n",
    "print(classes)\n",
    "> [ 0.01558163  0.01541934  0.01452626  0.01443549  0.01407339]\n",
    "> ['70', '3', '45', '62', '55']\n",
    "```\n",
    "\n",
    "First you'll need to handle processing the input image such that it can be used in your network. \n",
    "\n",
    "## Image Preprocessing\n",
    "\n",
    "You'll want to use `PIL` to load the image ([documentation](https://pillow.readthedocs.io/en/latest/reference/Image.html)). It's best to write a function that preprocesses the image so it can be used as input for the model. This function should process the images in the same manner used for training. \n",
    "\n",
    "First, resize the images where the shortest side is 256 pixels, keeping the aspect ratio. This can be done with the [`thumbnail`](http://pillow.readthedocs.io/en/3.1.x/reference/Image.html#PIL.Image.Image.thumbnail) or [`resize`](http://pillow.readthedocs.io/en/3.1.x/reference/Image.html#PIL.Image.Image.thumbnail) methods. Then you'll need to crop out the center 224x224 portion of the image.\n",
    "\n",
    "Color channels of images are typically encoded as integers 0-255, but the model expected floats 0-1. You'll need to convert the values. It's easiest with a Numpy array, which you can get from a PIL image like so `np_image = np.array(pil_image)`.\n",
    "\n",
    "As before, the network expects the images to be normalized in a specific way. For the means, it's `[0.485, 0.456, 0.406]` and for the standard deviations `[0.229, 0.224, 0.225]`. You'll want to subtract the means from each color channel, then divide by the standard deviation. \n",
    "\n",
    "And finally, PyTorch expects the color channel to be the first dimension but it's the third dimension in the PIL image and Numpy array. You can reorder dimensions using [`ndarray.transpose`](https://docs.scipy.org/doc/numpy-1.13.0/reference/generated/numpy.ndarray.transpose.html). The color channel needs to be first and retain the order of the other two dimensions."
   ]
  },
  {
   "cell_type": "code",
   "execution_count": null,
   "metadata": {},
   "outputs": [],
   "source": [
    "def process_image(image):\n",
    "    ''' Scales, crops, and normalizes a PIL image for a PyTorch model,\n",
    "        returns an Numpy array\n",
    "    '''\n",
    "    \n",
    "    # TODO: Process a PIL image for use in a PyTorch model"
   ]
  },
  {
   "cell_type": "markdown",
   "metadata": {},
   "source": [
    "To check your work, the function below converts a PyTorch tensor and displays it in the notebook. If your `process_image` function works, running the output through this function should return the original image (except for the cropped out portions)."
   ]
  },
  {
   "cell_type": "code",
   "execution_count": null,
   "metadata": {},
   "outputs": [],
   "source": [
    "def imshow(image, ax=None, title=None):\n",
    "    \"\"\"Imshow for Tensor.\"\"\"\n",
    "    if ax is None:\n",
    "        fig, ax = plt.subplots()\n",
    "    \n",
    "    # PyTorch tensors assume the color channel is the first dimension\n",
    "    # but matplotlib assumes is the third dimension\n",
    "    image = image.numpy().transpose((1, 2, 0))\n",
    "    \n",
    "    # Undo preprocessing\n",
    "    mean = np.array([0.485, 0.456, 0.406])\n",
    "    std = np.array([0.229, 0.224, 0.225])\n",
    "    image = std * image + mean\n",
    "    \n",
    "    # Image needs to be clipped between 0 and 1 or it looks like noise when displayed\n",
    "    image = np.clip(image, 0, 1)\n",
    "    \n",
    "    ax.imshow(image)\n",
    "    \n",
    "    return ax"
   ]
  },
  {
   "cell_type": "markdown",
   "metadata": {},
   "source": [
    "## Class Prediction\n",
    "\n",
    "Once you can get images in the correct format, it's time to write a function for making predictions with your model. A common practice is to predict the top 5 or so (usually called top-$K$) most probable classes. You'll want to calculate the class probabilities then find the $K$ largest values.\n",
    "\n",
    "To get the top $K$ largest values in a tensor use [`x.topk(k)`](http://pytorch.org/docs/master/torch.html#torch.topk). This method returns both the highest `k` probabilities and the indices of those probabilities corresponding to the classes. You need to convert from these indices to the actual class labels using `class_to_idx` which hopefully you added to the model or from an `ImageFolder` you used to load the data ([see here](#Save-the-checkpoint)). Make sure to invert the dictionary so you get a mapping from index to class as well.\n",
    "\n",
    "Again, this method should take a path to an image and a model checkpoint, then return the probabilities and classes.\n",
    "\n",
    "```python\n",
    "probs, classes = predict(image_path, model)\n",
    "print(probs)\n",
    "print(classes)\n",
    "> [ 0.01558163  0.01541934  0.01452626  0.01443549  0.01407339]\n",
    "> ['70', '3', '45', '62', '55']\n",
    "```"
   ]
  },
  {
   "cell_type": "code",
   "execution_count": null,
   "metadata": {},
   "outputs": [],
   "source": [
    "def predict(image_path, model, topk=5):\n",
    "    ''' Predict the class (or classes) of an image using a trained deep learning model.\n",
    "    '''\n",
    "    \n",
    "    # TODO: Implement the code to predict the class from an image file"
   ]
  },
  {
   "cell_type": "markdown",
   "metadata": {},
   "source": [
    "## Sanity Checking\n",
    "\n",
    "Now that you can use a trained model for predictions, check to make sure it makes sense. Even if the testing accuracy is high, it's always good to check that there aren't obvious bugs. Use `matplotlib` to plot the probabilities for the top 5 classes as a bar graph, along with the input image. It should look like this:\n",
    "\n",
    "<img src='assets/inference_example.png' width=300px>\n",
    "\n",
    "You can convert from the class integer encoding to actual flower names with the `cat_to_name.json` file (should have been loaded earlier in the notebook). To show a PyTorch tensor as an image, use the `imshow` function defined above."
   ]
  },
  {
   "cell_type": "code",
   "execution_count": null,
   "metadata": {},
   "outputs": [],
   "source": [
    "# TODO: Display an image along with the top 5 classes"
   ]
  }
 ],
 "metadata": {
  "kernelspec": {
   "display_name": "Python 3 (ipykernel)",
   "language": "python",
   "name": "python3"
  },
  "language_info": {
   "codemirror_mode": {
    "name": "ipython",
    "version": 3
   },
   "file_extension": ".py",
   "mimetype": "text/x-python",
   "name": "python",
   "nbconvert_exporter": "python",
   "pygments_lexer": "ipython3",
   "version": "3.11.8"
  }
 },
 "nbformat": 4,
 "nbformat_minor": 4
}
